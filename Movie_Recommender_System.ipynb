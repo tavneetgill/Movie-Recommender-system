{
  "nbformat": 4,
  "nbformat_minor": 0,
  "metadata": {
    "colab": {
      "name": "Movie Recommender System.ipynb",
      "provenance": [],
      "collapsed_sections": []
    },
    "kernelspec": {
      "display_name": "Python 3",
      "name": "python3"
    },
    "language_info": {
      "name": "python"
    }
  },
  "cells": [
    {
      "cell_type": "code",
      "metadata": {
        "id": "qOETcsiPCXRy"
      },
      "source": [
        "#Building a movie recommendation engine using python"
      ],
      "execution_count": null,
      "outputs": []
    },
    {
      "cell_type": "code",
      "metadata": {
        "id": "f8RnzmufCfVA"
      },
      "source": [
        "#Import the libraries\n",
        "import pandas as pd\n",
        "import numpy as np\n",
        "from sklearn.metrics.pairwise import cosine_similarity\n",
        "from sklearn.feature_extraction.text import CountVectorizer"
      ],
      "execution_count": null,
      "outputs": []
    },
    {
      "cell_type": "code",
      "metadata": {
        "colab": {
          "resources": {
            "http://localhost:8080/nbextensions/google.colab/files.js": {
              "data": "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",
              "ok": true,
              "headers": [
                [
                  "content-type",
                  "application/javascript"
                ]
              ],
              "status": 200,
              "status_text": ""
            }
          },
          "base_uri": "https://localhost:8080/",
          "height": 73
        },
        "id": "4M2kp8QnC_pY",
        "outputId": "00f07f22-d53d-4e9f-b3c2-a34de5a521ea"
      },
      "source": [
        "#Load the data\n",
        "from google.colab import files\n",
        "uploaded=files.upload()"
      ],
      "execution_count": null,
      "outputs": [
        {
          "output_type": "display_data",
          "data": {
            "text/html": [
              "\n",
              "     <input type=\"file\" id=\"files-81ababad-b285-43ad-a6d0-8923791731c6\" name=\"files[]\" multiple disabled\n",
              "        style=\"border:none\" />\n",
              "     <output id=\"result-81ababad-b285-43ad-a6d0-8923791731c6\">\n",
              "      Upload widget is only available when the cell has been executed in the\n",
              "      current browser session. Please rerun this cell to enable.\n",
              "      </output>\n",
              "      <script src=\"/nbextensions/google.colab/files.js\"></script> "
            ],
            "text/plain": [
              "<IPython.core.display.HTML object>"
            ]
          },
          "metadata": {}
        },
        {
          "output_type": "stream",
          "name": "stdout",
          "text": [
            "Saving movie_sample_dataset.csv to movie_sample_dataset.csv\n"
          ]
        }
      ]
    },
    {
      "cell_type": "code",
      "metadata": {
        "colab": {
          "base_uri": "https://localhost:8080/",
          "height": 319
        },
        "id": "L3XbccEFE7pF",
        "outputId": "a4af9dc3-e750-49e7-ec0a-9ce8eb864e28"
      },
      "source": [
        "#Store the data\n",
        "df=pd.read_csv('movie_sample_dataset.csv')\n",
        "#Show the first 3 rows of data\n",
        "df.head(3)"
      ],
      "execution_count": null,
      "outputs": [
        {
          "output_type": "execute_result",
          "data": {
            "text/html": [
              "<div>\n",
              "<style scoped>\n",
              "    .dataframe tbody tr th:only-of-type {\n",
              "        vertical-align: middle;\n",
              "    }\n",
              "\n",
              "    .dataframe tbody tr th {\n",
              "        vertical-align: top;\n",
              "    }\n",
              "\n",
              "    .dataframe thead th {\n",
              "        text-align: right;\n",
              "    }\n",
              "</style>\n",
              "<table border=\"1\" class=\"dataframe\">\n",
              "  <thead>\n",
              "    <tr style=\"text-align: right;\">\n",
              "      <th></th>\n",
              "      <th>color</th>\n",
              "      <th>director_name</th>\n",
              "      <th>duration</th>\n",
              "      <th>gross</th>\n",
              "      <th>genres</th>\n",
              "      <th>movie_title</th>\n",
              "      <th>title_year</th>\n",
              "      <th>language</th>\n",
              "      <th>country</th>\n",
              "      <th>budget</th>\n",
              "      <th>imdb_score</th>\n",
              "      <th>actors</th>\n",
              "      <th>movie_facebook_likes</th>\n",
              "    </tr>\n",
              "  </thead>\n",
              "  <tbody>\n",
              "    <tr>\n",
              "      <th>0</th>\n",
              "      <td>Color</td>\n",
              "      <td>Martin Scorsese</td>\n",
              "      <td>240</td>\n",
              "      <td>116866727.0</td>\n",
              "      <td>Biography|Comedy|Crime|Drama</td>\n",
              "      <td>The Wolf of Wall Street</td>\n",
              "      <td>2013</td>\n",
              "      <td>English</td>\n",
              "      <td>USA</td>\n",
              "      <td>100000000.0</td>\n",
              "      <td>8.2</td>\n",
              "      <td>Leonardo DiCaprio,Matthew McConaughey,Jon Favreau</td>\n",
              "      <td>138000</td>\n",
              "    </tr>\n",
              "    <tr>\n",
              "      <th>1</th>\n",
              "      <td>Color</td>\n",
              "      <td>Shane Black</td>\n",
              "      <td>195</td>\n",
              "      <td>408992272.0</td>\n",
              "      <td>Action|Adventure|Sci-Fi</td>\n",
              "      <td>Iron Man 3</td>\n",
              "      <td>2013</td>\n",
              "      <td>English</td>\n",
              "      <td>USA</td>\n",
              "      <td>200000000.0</td>\n",
              "      <td>7.2</td>\n",
              "      <td>Robert Downey Jr.,Jon Favreau,Don Cheadle</td>\n",
              "      <td>95000</td>\n",
              "    </tr>\n",
              "    <tr>\n",
              "      <th>2</th>\n",
              "      <td>color</td>\n",
              "      <td>Quentin Tarantino</td>\n",
              "      <td>187</td>\n",
              "      <td>54116191.0</td>\n",
              "      <td>Crime|Drama|Mystery|Thriller|Western</td>\n",
              "      <td>The Hateful Eight</td>\n",
              "      <td>2015</td>\n",
              "      <td>English</td>\n",
              "      <td>USA</td>\n",
              "      <td>44000000.0</td>\n",
              "      <td>7.9</td>\n",
              "      <td>Craig Stark,Jennifer Jason Leigh,Zoë Bell</td>\n",
              "      <td>114000</td>\n",
              "    </tr>\n",
              "  </tbody>\n",
              "</table>\n",
              "</div>"
            ],
            "text/plain": [
              "    color  ... movie_facebook_likes\n",
              "0   Color  ...               138000\n",
              "1   Color  ...                95000\n",
              "2  color   ...               114000\n",
              "\n",
              "[3 rows x 13 columns]"
            ]
          },
          "metadata": {},
          "execution_count": 4
        }
      ]
    },
    {
      "cell_type": "code",
      "metadata": {
        "colab": {
          "base_uri": "https://localhost:8080/"
        },
        "id": "4laJCq4ZFwcm",
        "outputId": "43b33ef8-ca8f-4192-a855-d3f4073fc493"
      },
      "source": [
        "#Get a count of the number of rows/movies in the data set and the number of columns\n",
        "df.shape"
      ],
      "execution_count": null,
      "outputs": [
        {
          "output_type": "execute_result",
          "data": {
            "text/plain": [
              "(99, 13)"
            ]
          },
          "metadata": {},
          "execution_count": 5
        }
      ]
    },
    {
      "cell_type": "code",
      "metadata": {
        "id": "o-PG24czF_RD"
      },
      "source": [
        "#Create a list of important columns  for the recommendation engine\n",
        "columns=['director_name','actors','genres','movie_title']"
      ],
      "execution_count": null,
      "outputs": []
    },
    {
      "cell_type": "code",
      "metadata": {
        "id": "F7erxEDinQaT"
      },
      "source": [
        "#Adding new column movie_id to dataset\n",
        "df['Movie_ID'] = range(0, 0+len(df))\n"
      ],
      "execution_count": null,
      "outputs": []
    },
    {
      "cell_type": "code",
      "metadata": {
        "colab": {
          "base_uri": "https://localhost:8080/",
          "height": 143
        },
        "id": "twVfspKzGddY",
        "outputId": "93d4aeea-e053-45f5-ccb0-327fb41d2f69"
      },
      "source": [
        "#Show the data\n",
        "df[columns].head(3)"
      ],
      "execution_count": null,
      "outputs": [
        {
          "output_type": "execute_result",
          "data": {
            "text/html": [
              "<div>\n",
              "<style scoped>\n",
              "    .dataframe tbody tr th:only-of-type {\n",
              "        vertical-align: middle;\n",
              "    }\n",
              "\n",
              "    .dataframe tbody tr th {\n",
              "        vertical-align: top;\n",
              "    }\n",
              "\n",
              "    .dataframe thead th {\n",
              "        text-align: right;\n",
              "    }\n",
              "</style>\n",
              "<table border=\"1\" class=\"dataframe\">\n",
              "  <thead>\n",
              "    <tr style=\"text-align: right;\">\n",
              "      <th></th>\n",
              "      <th>director_name</th>\n",
              "      <th>actors</th>\n",
              "      <th>genres</th>\n",
              "      <th>movie_title</th>\n",
              "    </tr>\n",
              "  </thead>\n",
              "  <tbody>\n",
              "    <tr>\n",
              "      <th>0</th>\n",
              "      <td>Martin Scorsese</td>\n",
              "      <td>Leonardo DiCaprio,Matthew McConaughey,Jon Favreau</td>\n",
              "      <td>Biography|Comedy|Crime|Drama</td>\n",
              "      <td>The Wolf of Wall Street</td>\n",
              "    </tr>\n",
              "    <tr>\n",
              "      <th>1</th>\n",
              "      <td>Shane Black</td>\n",
              "      <td>Robert Downey Jr.,Jon Favreau,Don Cheadle</td>\n",
              "      <td>Action|Adventure|Sci-Fi</td>\n",
              "      <td>Iron Man 3</td>\n",
              "    </tr>\n",
              "    <tr>\n",
              "      <th>2</th>\n",
              "      <td>Quentin Tarantino</td>\n",
              "      <td>Craig Stark,Jennifer Jason Leigh,Zoë Bell</td>\n",
              "      <td>Crime|Drama|Mystery|Thriller|Western</td>\n",
              "      <td>The Hateful Eight</td>\n",
              "    </tr>\n",
              "  </tbody>\n",
              "</table>\n",
              "</div>"
            ],
            "text/plain": [
              "       director_name  ...              movie_title\n",
              "0    Martin Scorsese  ...  The Wolf of Wall Street\n",
              "1        Shane Black  ...               Iron Man 3\n",
              "2  Quentin Tarantino  ...        The Hateful Eight\n",
              "\n",
              "[3 rows x 4 columns]"
            ]
          },
          "metadata": {},
          "execution_count": 8
        }
      ]
    },
    {
      "cell_type": "code",
      "metadata": {
        "colab": {
          "base_uri": "https://localhost:8080/"
        },
        "id": "qNQXYv2KGued",
        "outputId": "7e9b450d-b8f0-4b7c-f89d-f3fbbba9b033"
      },
      "source": [
        "#Check for any missing values in the important columns\n",
        "a=df[columns].isnull().values.any()\n",
        "print(a)\n",
        "df[columns].isnull().sum()"
      ],
      "execution_count": null,
      "outputs": [
        {
          "output_type": "stream",
          "name": "stdout",
          "text": [
            "True\n"
          ]
        },
        {
          "output_type": "execute_result",
          "data": {
            "text/plain": [
              "director_name    11\n",
              "actors            0\n",
              "genres            1\n",
              "movie_title       0\n",
              "dtype: int64"
            ]
          },
          "metadata": {},
          "execution_count": 9
        }
      ]
    },
    {
      "cell_type": "code",
      "metadata": {
        "colab": {
          "base_uri": "https://localhost:8080/",
          "height": 175
        },
        "id": "Q1hvVIxpdPE6",
        "outputId": "7c80b295-3382-45ba-b86f-abe43f6e4be8"
      },
      "source": [
        "#Cleaning the data containing null values\n",
        "DataDummies = pd.get_dummies(columns)\n",
        "DataDummies"
      ],
      "execution_count": null,
      "outputs": [
        {
          "output_type": "execute_result",
          "data": {
            "text/html": [
              "<div>\n",
              "<style scoped>\n",
              "    .dataframe tbody tr th:only-of-type {\n",
              "        vertical-align: middle;\n",
              "    }\n",
              "\n",
              "    .dataframe tbody tr th {\n",
              "        vertical-align: top;\n",
              "    }\n",
              "\n",
              "    .dataframe thead th {\n",
              "        text-align: right;\n",
              "    }\n",
              "</style>\n",
              "<table border=\"1\" class=\"dataframe\">\n",
              "  <thead>\n",
              "    <tr style=\"text-align: right;\">\n",
              "      <th></th>\n",
              "      <th>actors</th>\n",
              "      <th>director_name</th>\n",
              "      <th>genres</th>\n",
              "      <th>movie_title</th>\n",
              "    </tr>\n",
              "  </thead>\n",
              "  <tbody>\n",
              "    <tr>\n",
              "      <th>0</th>\n",
              "      <td>0</td>\n",
              "      <td>1</td>\n",
              "      <td>0</td>\n",
              "      <td>0</td>\n",
              "    </tr>\n",
              "    <tr>\n",
              "      <th>1</th>\n",
              "      <td>1</td>\n",
              "      <td>0</td>\n",
              "      <td>0</td>\n",
              "      <td>0</td>\n",
              "    </tr>\n",
              "    <tr>\n",
              "      <th>2</th>\n",
              "      <td>0</td>\n",
              "      <td>0</td>\n",
              "      <td>1</td>\n",
              "      <td>0</td>\n",
              "    </tr>\n",
              "    <tr>\n",
              "      <th>3</th>\n",
              "      <td>0</td>\n",
              "      <td>0</td>\n",
              "      <td>0</td>\n",
              "      <td>1</td>\n",
              "    </tr>\n",
              "  </tbody>\n",
              "</table>\n",
              "</div>"
            ],
            "text/plain": [
              "   actors  director_name  genres  movie_title\n",
              "0       0              1       0            0\n",
              "1       1              0       0            0\n",
              "2       0              0       1            0\n",
              "3       0              0       0            1"
            ]
          },
          "metadata": {},
          "execution_count": 10
        }
      ]
    },
    {
      "cell_type": "code",
      "metadata": {
        "colab": {
          "base_uri": "https://localhost:8080/"
        },
        "id": "w8_Y8W7Jdit6",
        "outputId": "7f8b007f-feb5-4be3-d49b-b573dcd039df"
      },
      "source": [
        "#Checking the cleaning is successful or not\n",
        "print(DataDummies.isnull().sum())\n",
        "b=DataDummies.isnull().values.any()\n",
        "print(b)"
      ],
      "execution_count": null,
      "outputs": [
        {
          "output_type": "stream",
          "name": "stdout",
          "text": [
            "actors           0\n",
            "director_name    0\n",
            "genres           0\n",
            "movie_title      0\n",
            "dtype: int64\n",
            "False\n"
          ]
        }
      ]
    },
    {
      "cell_type": "code",
      "metadata": {
        "id": "jEQVYXp6eJ5O"
      },
      "source": [
        "#Create a function to combine the values of the important columns into a single string\n",
        "def get_important_features(data):\n",
        "  important_features=[]\n",
        "  for i in range(0,data.shape[0]):\n",
        "    important_features.append(str(data['actors'][i]) +' '+ str(data['director_name'][i]) +' '+ str(data['genres'][i]) +' '+str(data['movie_title'][i]))\n",
        "\n",
        "  return important_features\n"
      ],
      "execution_count": null,
      "outputs": []
    },
    {
      "cell_type": "code",
      "metadata": {
        "colab": {
          "base_uri": "https://localhost:8080/",
          "height": 1000
        },
        "id": "mGlUaL2SeMLR",
        "outputId": "eceda5cd-ddd3-413f-aa88-e393eb08c537"
      },
      "source": [
        "#Create a column to hold combined strings\n",
        "df['important_features'] = get_important_features(df)\n",
        "\n",
        "#Show the data\n",
        "df.head(20)"
      ],
      "execution_count": null,
      "outputs": [
        {
          "output_type": "execute_result",
          "data": {
            "text/html": [
              "<div>\n",
              "<style scoped>\n",
              "    .dataframe tbody tr th:only-of-type {\n",
              "        vertical-align: middle;\n",
              "    }\n",
              "\n",
              "    .dataframe tbody tr th {\n",
              "        vertical-align: top;\n",
              "    }\n",
              "\n",
              "    .dataframe thead th {\n",
              "        text-align: right;\n",
              "    }\n",
              "</style>\n",
              "<table border=\"1\" class=\"dataframe\">\n",
              "  <thead>\n",
              "    <tr style=\"text-align: right;\">\n",
              "      <th></th>\n",
              "      <th>color</th>\n",
              "      <th>director_name</th>\n",
              "      <th>duration</th>\n",
              "      <th>gross</th>\n",
              "      <th>genres</th>\n",
              "      <th>movie_title</th>\n",
              "      <th>title_year</th>\n",
              "      <th>language</th>\n",
              "      <th>country</th>\n",
              "      <th>budget</th>\n",
              "      <th>imdb_score</th>\n",
              "      <th>actors</th>\n",
              "      <th>movie_facebook_likes</th>\n",
              "      <th>Movie_ID</th>\n",
              "      <th>important_features</th>\n",
              "    </tr>\n",
              "  </thead>\n",
              "  <tbody>\n",
              "    <tr>\n",
              "      <th>0</th>\n",
              "      <td>Color</td>\n",
              "      <td>Martin Scorsese</td>\n",
              "      <td>240</td>\n",
              "      <td>116866727.0</td>\n",
              "      <td>Biography|Comedy|Crime|Drama</td>\n",
              "      <td>The Wolf of Wall Street</td>\n",
              "      <td>2013</td>\n",
              "      <td>English</td>\n",
              "      <td>USA</td>\n",
              "      <td>100000000.0</td>\n",
              "      <td>8.2</td>\n",
              "      <td>Leonardo DiCaprio,Matthew McConaughey,Jon Favreau</td>\n",
              "      <td>138000</td>\n",
              "      <td>0</td>\n",
              "      <td>Leonardo DiCaprio,Matthew McConaughey,Jon Favr...</td>\n",
              "    </tr>\n",
              "    <tr>\n",
              "      <th>1</th>\n",
              "      <td>Color</td>\n",
              "      <td>Shane Black</td>\n",
              "      <td>195</td>\n",
              "      <td>408992272.0</td>\n",
              "      <td>Action|Adventure|Sci-Fi</td>\n",
              "      <td>Iron Man 3</td>\n",
              "      <td>2013</td>\n",
              "      <td>English</td>\n",
              "      <td>USA</td>\n",
              "      <td>200000000.0</td>\n",
              "      <td>7.2</td>\n",
              "      <td>Robert Downey Jr.,Jon Favreau,Don Cheadle</td>\n",
              "      <td>95000</td>\n",
              "      <td>1</td>\n",
              "      <td>Robert Downey Jr.,Jon Favreau,Don Cheadle Shan...</td>\n",
              "    </tr>\n",
              "    <tr>\n",
              "      <th>2</th>\n",
              "      <td>color</td>\n",
              "      <td>Quentin Tarantino</td>\n",
              "      <td>187</td>\n",
              "      <td>54116191.0</td>\n",
              "      <td>Crime|Drama|Mystery|Thriller|Western</td>\n",
              "      <td>The Hateful Eight</td>\n",
              "      <td>2015</td>\n",
              "      <td>English</td>\n",
              "      <td>USA</td>\n",
              "      <td>44000000.0</td>\n",
              "      <td>7.9</td>\n",
              "      <td>Craig Stark,Jennifer Jason Leigh,Zoë Bell</td>\n",
              "      <td>114000</td>\n",
              "      <td>2</td>\n",
              "      <td>Craig Stark,Jennifer Jason Leigh,Zoë Bell Quen...</td>\n",
              "    </tr>\n",
              "    <tr>\n",
              "      <th>3</th>\n",
              "      <td>Color</td>\n",
              "      <td>Kenneth Lonergan</td>\n",
              "      <td>186</td>\n",
              "      <td>46495.0</td>\n",
              "      <td>Drama</td>\n",
              "      <td>Margaret</td>\n",
              "      <td>2011</td>\n",
              "      <td>English</td>\n",
              "      <td>usa</td>\n",
              "      <td>14000000.0</td>\n",
              "      <td>6.5</td>\n",
              "      <td>Matt Damon,Kieran Culkin,John Gallagher Jr.</td>\n",
              "      <td>0</td>\n",
              "      <td>3</td>\n",
              "      <td>Matt Damon,Kieran Culkin,John Gallagher Jr. Ke...</td>\n",
              "    </tr>\n",
              "    <tr>\n",
              "      <th>4</th>\n",
              "      <td>Color</td>\n",
              "      <td>Peter Jackson</td>\n",
              "      <td>186</td>\n",
              "      <td>258355354.0</td>\n",
              "      <td>Adventure|Fantasy</td>\n",
              "      <td>The Hobbit: The Desolation of Smaug</td>\n",
              "      <td>2013</td>\n",
              "      <td>English</td>\n",
              "      <td>USA</td>\n",
              "      <td>225000000.0</td>\n",
              "      <td>7.9</td>\n",
              "      <td>Aidan Turner,Adam Brown,James Nesbitt</td>\n",
              "      <td>83000</td>\n",
              "      <td>4</td>\n",
              "      <td>Aidan Turner,Adam Brown,James Nesbitt Peter Ja...</td>\n",
              "    </tr>\n",
              "    <tr>\n",
              "      <th>5</th>\n",
              "      <td>NaN</td>\n",
              "      <td>NaN</td>\n",
              "      <td>183</td>\n",
              "      <td>330249062.0</td>\n",
              "      <td>Action|Adventure|Sci-Fi</td>\n",
              "      <td>Batman v Superman: Dawn of Justice</td>\n",
              "      <td>202</td>\n",
              "      <td>English</td>\n",
              "      <td>USA</td>\n",
              "      <td>250000000.0</td>\n",
              "      <td>6.9</td>\n",
              "      <td>Henry Cavill,Lauren Cohan,Alan D. Purwin</td>\n",
              "      <td>197000</td>\n",
              "      <td>5</td>\n",
              "      <td>Henry Cavill,Lauren Cohan,Alan D. Purwin nan A...</td>\n",
              "    </tr>\n",
              "    <tr>\n",
              "      <th>6</th>\n",
              "      <td>Color</td>\n",
              "      <td>Peter Jackson</td>\n",
              "      <td>-50</td>\n",
              "      <td>303001229.0</td>\n",
              "      <td>Adventure|Fantasy</td>\n",
              "      <td>The Hobbit: An Unexpected Journey</td>\n",
              "      <td>2012</td>\n",
              "      <td>English</td>\n",
              "      <td>USA</td>\n",
              "      <td>180000000.0</td>\n",
              "      <td>7.9</td>\n",
              "      <td>Aidan Turner,Adam Brown,James Nesbitt</td>\n",
              "      <td>166000</td>\n",
              "      <td>6</td>\n",
              "      <td>Aidan Turner,Adam Brown,James Nesbitt Peter Ja...</td>\n",
              "    </tr>\n",
              "    <tr>\n",
              "      <th>7</th>\n",
              "      <td>Color</td>\n",
              "      <td>Edward Hall</td>\n",
              "      <td>180</td>\n",
              "      <td>NaN</td>\n",
              "      <td>Drama|Romance</td>\n",
              "      <td>Restless</td>\n",
              "      <td>2012</td>\n",
              "      <td>English</td>\n",
              "      <td>UK</td>\n",
              "      <td>NaN</td>\n",
              "      <td>7.2</td>\n",
              "      <td>Rufus Sewell,Hayley Atwell,Charlotte Rampling</td>\n",
              "      <td>434</td>\n",
              "      <td>7</td>\n",
              "      <td>Rufus Sewell,Hayley Atwell,Charlotte Rampling ...</td>\n",
              "    </tr>\n",
              "    <tr>\n",
              "      <th>8</th>\n",
              "      <td>Color</td>\n",
              "      <td>Joss Whedon</td>\n",
              "      <td>173</td>\n",
              "      <td>623279547.0</td>\n",
              "      <td>Action|Adventure|Sci-Fi</td>\n",
              "      <td>The Avengers</td>\n",
              "      <td>2012</td>\n",
              "      <td>English</td>\n",
              "      <td>USA</td>\n",
              "      <td>220000000.0</td>\n",
              "      <td>8.1</td>\n",
              "      <td>Chris Hemsworth,Robert Downey Jr.,Scarlett Joh...</td>\n",
              "      <td>123000</td>\n",
              "      <td>8</td>\n",
              "      <td>Chris Hemsworth,Robert Downey Jr.,Scarlett Joh...</td>\n",
              "    </tr>\n",
              "    <tr>\n",
              "      <th>9</th>\n",
              "      <td>Color</td>\n",
              "      <td>Joss Whedon</td>\n",
              "      <td>173</td>\n",
              "      <td>623279547.0</td>\n",
              "      <td>Action|Adventure|Sci-Fi</td>\n",
              "      <td>The Avengers</td>\n",
              "      <td>2012</td>\n",
              "      <td>English</td>\n",
              "      <td>USA</td>\n",
              "      <td>220000000.0</td>\n",
              "      <td>8.1</td>\n",
              "      <td>Chris Hemsworth,Robert Downey Jr.,Scarlett Joh...</td>\n",
              "      <td>123000</td>\n",
              "      <td>9</td>\n",
              "      <td>Chris Hemsworth,Robert Downey Jr.,Scarlett Joh...</td>\n",
              "    </tr>\n",
              "    <tr>\n",
              "      <th>10</th>\n",
              "      <td>NaN</td>\n",
              "      <td>Tom Tykwer</td>\n",
              "      <td>172</td>\n",
              "      <td>27098580.0</td>\n",
              "      <td>Drama|Sci-Fi</td>\n",
              "      <td>Cloud Atlas</td>\n",
              "      <td>2012</td>\n",
              "      <td>English</td>\n",
              "      <td>Germany</td>\n",
              "      <td>102000000.0</td>\n",
              "      <td>-7.5</td>\n",
              "      <td>Tom Hanks,Jim Sturgess,Jim Broadbent</td>\n",
              "      <td>124000</td>\n",
              "      <td>10</td>\n",
              "      <td>Tom Hanks,Jim Sturgess,Jim Broadbent Tom Tykwe...</td>\n",
              "    </tr>\n",
              "    <tr>\n",
              "      <th>11</th>\n",
              "      <td>Color</td>\n",
              "      <td>Null</td>\n",
              "      <td>158</td>\n",
              "      <td>102515793.0</td>\n",
              "      <td>Crime|Drama|Mystery|Thriller</td>\n",
              "      <td>The Girl with the Dragon Tattoo</td>\n",
              "      <td>2011</td>\n",
              "      <td>English</td>\n",
              "      <td>USA</td>\n",
              "      <td>90000000.0</td>\n",
              "      <td>7.8</td>\n",
              "      <td>Robin Wright,Goran Visnjic,Joely Richardson</td>\n",
              "      <td>54000</td>\n",
              "      <td>11</td>\n",
              "      <td>Robin Wright,Goran Visnjic,Joely Richardson Nu...</td>\n",
              "    </tr>\n",
              "    <tr>\n",
              "      <th>12</th>\n",
              "      <td>Color</td>\n",
              "      <td>Christopher Spencer</td>\n",
              "      <td>170</td>\n",
              "      <td>59696176.0</td>\n",
              "      <td>NaN</td>\n",
              "      <td>Son of God</td>\n",
              "      <td>2014</td>\n",
              "      <td>English</td>\n",
              "      <td>USA</td>\n",
              "      <td>22000000.0</td>\n",
              "      <td>5.6</td>\n",
              "      <td>Roma Downey,Amber Rose Revah,Darwin Shaw</td>\n",
              "      <td>15000</td>\n",
              "      <td>12</td>\n",
              "      <td>Roma Downey,Amber Rose Revah,Darwin Shaw Chris...</td>\n",
              "    </tr>\n",
              "    <tr>\n",
              "      <th>13</th>\n",
              "      <td>Color</td>\n",
              "      <td>Christopher Nolan</td>\n",
              "      <td>169</td>\n",
              "      <td>187991439.0</td>\n",
              "      <td>Adventure|Drama|Sci-Fi</td>\n",
              "      <td>Interstellar</td>\n",
              "      <td>2014</td>\n",
              "      <td>English</td>\n",
              "      <td>USA</td>\n",
              "      <td>165000000.0</td>\n",
              "      <td>8.6</td>\n",
              "      <td>Matthew McConaughey,Anne Hathaway,Mackenzie Foy</td>\n",
              "      <td>349000</td>\n",
              "      <td>13</td>\n",
              "      <td>Matthew McConaughey,Anne Hathaway,Mackenzie Fo...</td>\n",
              "    </tr>\n",
              "    <tr>\n",
              "      <th>14</th>\n",
              "      <td>Color</td>\n",
              "      <td>F. Gary Gray</td>\n",
              "      <td>167</td>\n",
              "      <td>161029270.0</td>\n",
              "      <td>Biography|Crime|Drama|History|Music</td>\n",
              "      <td>Straight Outta Compton</td>\n",
              "      <td>2015</td>\n",
              "      <td>English</td>\n",
              "      <td>USA</td>\n",
              "      <td>28000000.0</td>\n",
              "      <td>7.9</td>\n",
              "      <td>Aldis Hodge,Neil Brown Jr.,R. Marcos Taylor</td>\n",
              "      <td>76000</td>\n",
              "      <td>14</td>\n",
              "      <td>Aldis Hodge,Neil Brown Jr.,R. Marcos Taylor F....</td>\n",
              "    </tr>\n",
              "    <tr>\n",
              "      <th>15</th>\n",
              "      <td>NaN</td>\n",
              "      <td>Richard Linklater</td>\n",
              "      <td>165</td>\n",
              "      <td>25359200.0</td>\n",
              "      <td>Drama</td>\n",
              "      <td>Boyhood</td>\n",
              "      <td>2014</td>\n",
              "      <td>English</td>\n",
              "      <td>USA</td>\n",
              "      <td>4000000.0</td>\n",
              "      <td>8.0</td>\n",
              "      <td>Ellar Coltrane,Lorelei Linklater,Libby Villari</td>\n",
              "      <td>92000</td>\n",
              "      <td>15</td>\n",
              "      <td>Ellar Coltrane,Lorelei Linklater,Libby Villari...</td>\n",
              "    </tr>\n",
              "    <tr>\n",
              "      <th>16</th>\n",
              "      <td>Color</td>\n",
              "      <td>Quentin Tarantino</td>\n",
              "      <td>580</td>\n",
              "      <td>162804648.0</td>\n",
              "      <td>Drama|Western</td>\n",
              "      <td>Django Unchained</td>\n",
              "      <td>2012</td>\n",
              "      <td>English</td>\n",
              "      <td>USA</td>\n",
              "      <td>100000000.0</td>\n",
              "      <td>8.5</td>\n",
              "      <td>Leonardo DiCaprio,Christoph Waltz,Ato Essandoh</td>\n",
              "      <td>199000</td>\n",
              "      <td>16</td>\n",
              "      <td>Leonardo DiCaprio,Christoph Waltz,Ato Essandoh...</td>\n",
              "    </tr>\n",
              "    <tr>\n",
              "      <th>17</th>\n",
              "      <td>Color</td>\n",
              "      <td>Michael Bay</td>\n",
              "      <td>165</td>\n",
              "      <td>245428137.0</td>\n",
              "      <td>Action|Adventure|Sci-Fi</td>\n",
              "      <td>Transformers: Age of Extinction</td>\n",
              "      <td>2014</td>\n",
              "      <td>English</td>\n",
              "      <td>USA</td>\n",
              "      <td>210000000.0</td>\n",
              "      <td>5.7</td>\n",
              "      <td>Bingbing Li,Sophia Myles,Kelsey Grammer</td>\n",
              "      <td>56000</td>\n",
              "      <td>17</td>\n",
              "      <td>Bingbing Li,Sophia Myles,Kelsey Grammer Michae...</td>\n",
              "    </tr>\n",
              "    <tr>\n",
              "      <th>18</th>\n",
              "      <td>NaN</td>\n",
              "      <td>Christopher Nolan</td>\n",
              "      <td>164</td>\n",
              "      <td>448130642.0</td>\n",
              "      <td>Action|Thriller</td>\n",
              "      <td>The Dark Knight Rises</td>\n",
              "      <td>2012</td>\n",
              "      <td>English</td>\n",
              "      <td>USA</td>\n",
              "      <td>250000000.0</td>\n",
              "      <td>8.5</td>\n",
              "      <td>Tom Hardy,Christian Bale,Joseph Gordon-Levitt</td>\n",
              "      <td>164000</td>\n",
              "      <td>18</td>\n",
              "      <td>Tom Hardy,Christian Bale,Joseph Gordon-Levitt ...</td>\n",
              "    </tr>\n",
              "    <tr>\n",
              "      <th>19</th>\n",
              "      <td>Color</td>\n",
              "      <td>Peter Jackson</td>\n",
              "      <td>164</td>\n",
              "      <td>255108370.0</td>\n",
              "      <td>Adventure|Fantasy</td>\n",
              "      <td>The Hobbit: The Battle of the Five Armies</td>\n",
              "      <td>2014</td>\n",
              "      <td>English</td>\n",
              "      <td>New Zealand</td>\n",
              "      <td>250000000.0</td>\n",
              "      <td>7.5</td>\n",
              "      <td>Aidan Turner,Adam Brown,James Nesbitt</td>\n",
              "      <td>65000</td>\n",
              "      <td>19</td>\n",
              "      <td>Aidan Turner,Adam Brown,James Nesbitt Peter Ja...</td>\n",
              "    </tr>\n",
              "  </tbody>\n",
              "</table>\n",
              "</div>"
            ],
            "text/plain": [
              "     color  ...                                 important_features\n",
              "0    Color  ...  Leonardo DiCaprio,Matthew McConaughey,Jon Favr...\n",
              "1    Color  ...  Robert Downey Jr.,Jon Favreau,Don Cheadle Shan...\n",
              "2   color   ...  Craig Stark,Jennifer Jason Leigh,Zoë Bell Quen...\n",
              "3    Color  ...  Matt Damon,Kieran Culkin,John Gallagher Jr. Ke...\n",
              "4    Color  ...  Aidan Turner,Adam Brown,James Nesbitt Peter Ja...\n",
              "5      NaN  ...  Henry Cavill,Lauren Cohan,Alan D. Purwin nan A...\n",
              "6    Color  ...  Aidan Turner,Adam Brown,James Nesbitt Peter Ja...\n",
              "7    Color  ...  Rufus Sewell,Hayley Atwell,Charlotte Rampling ...\n",
              "8    Color  ...  Chris Hemsworth,Robert Downey Jr.,Scarlett Joh...\n",
              "9    Color  ...  Chris Hemsworth,Robert Downey Jr.,Scarlett Joh...\n",
              "10     NaN  ...  Tom Hanks,Jim Sturgess,Jim Broadbent Tom Tykwe...\n",
              "11   Color  ...  Robin Wright,Goran Visnjic,Joely Richardson Nu...\n",
              "12   Color  ...  Roma Downey,Amber Rose Revah,Darwin Shaw Chris...\n",
              "13   Color  ...  Matthew McConaughey,Anne Hathaway,Mackenzie Fo...\n",
              "14   Color  ...  Aldis Hodge,Neil Brown Jr.,R. Marcos Taylor F....\n",
              "15     NaN  ...  Ellar Coltrane,Lorelei Linklater,Libby Villari...\n",
              "16   Color  ...  Leonardo DiCaprio,Christoph Waltz,Ato Essandoh...\n",
              "17   Color  ...  Bingbing Li,Sophia Myles,Kelsey Grammer Michae...\n",
              "18     NaN  ...  Tom Hardy,Christian Bale,Joseph Gordon-Levitt ...\n",
              "19   Color  ...  Aidan Turner,Adam Brown,James Nesbitt Peter Ja...\n",
              "\n",
              "[20 rows x 15 columns]"
            ]
          },
          "metadata": {},
          "execution_count": 13
        }
      ]
    },
    {
      "cell_type": "code",
      "metadata": {
        "id": "UhmVtzPnkT1T"
      },
      "source": [
        "#Convert the text to a matrix of token counts\n",
        "cm= CountVectorizer().fit_transform(df['important_features'])"
      ],
      "execution_count": null,
      "outputs": []
    },
    {
      "cell_type": "code",
      "metadata": {
        "colab": {
          "base_uri": "https://localhost:8080/"
        },
        "id": "jUJRjXDykntr",
        "outputId": "5e999c41-58da-4a5d-9ddd-aefd2563e7e8"
      },
      "source": [
        "#Get the cosine similarity matrix from the count matrix\n",
        "cs=cosine_similarity(cm)\n",
        "#Print the cosine similarity matrix\n",
        "print(cs)"
      ],
      "execution_count": null,
      "outputs": [
        {
          "output_type": "stream",
          "name": "stdout",
          "text": [
            "[[1.         0.12524486 0.17647059 ... 0.13453456 0.070014   0.12964074]\n",
            " [0.12524486 1.         0.         ... 0.         0.0745356  0.        ]\n",
            " [0.17647059 0.         1.         ... 0.13453456 0.070014   0.06482037]\n",
            " ...\n",
            " [0.13453456 0.         0.13453456 ... 1.         0.08006408 0.14824986]\n",
            " [0.070014   0.0745356  0.070014   ... 0.08006408 1.         0.07715167]\n",
            " [0.12964074 0.         0.06482037 ... 0.14824986 0.07715167 1.        ]]\n"
          ]
        }
      ]
    },
    {
      "cell_type": "code",
      "metadata": {
        "colab": {
          "base_uri": "https://localhost:8080/"
        },
        "id": "hjUvBAQSlLfy",
        "outputId": "5e3ac23e-5800-4ead-e2e7-cb3cce05d88f"
      },
      "source": [
        "#Get the shape of the cosine similarity matrix\n",
        "cs.shape"
      ],
      "execution_count": null,
      "outputs": [
        {
          "output_type": "execute_result",
          "data": {
            "text/plain": [
              "(99, 99)"
            ]
          },
          "metadata": {},
          "execution_count": 16
        }
      ]
    },
    {
      "cell_type": "code",
      "metadata": {
        "colab": {
          "base_uri": "https://localhost:8080/"
        },
        "id": "MojQ_0w0lkFh",
        "outputId": "ac4c30d0-401f-4ec7-d35b-6d92c77a215a"
      },
      "source": [
        "#Get the title of the movie that the user likes\n",
        "title=input(print('Enter movie name:'))\n",
        "\n",
        "#Find the movies id\n",
        "movie_id=df[df.movie_title==title]['Movie_ID'].values[0]"
      ],
      "execution_count": null,
      "outputs": [
        {
          "name": "stdout",
          "output_type": "stream",
          "text": [
            "Enter movie name:\n",
            "The Avengers\n"
          ]
        }
      ]
    },
    {
      "cell_type": "code",
      "metadata": {
        "id": "Nc25EiePnLUP"
      },
      "source": [
        "#Create a list of enumerations for the similarity scores\n",
        "#We get a list of tuples as[(movie_id,similarity score),(...)]\n",
        "scores= list(enumerate(cs[movie_id]))"
      ],
      "execution_count": null,
      "outputs": []
    },
    {
      "cell_type": "code",
      "metadata": {
        "id": "bROrks-co0KG"
      },
      "source": [
        "#Sort the list\n",
        "#Here, x corresponds to scores and position 1 is the similarity score, Reverse=True sorts list in descending order\n",
        "sorted_scores=sorted(scores,key=lambda x:x[1],reverse=True)\n",
        "sorted_scores= sorted_scores[1:]"
      ],
      "execution_count": null,
      "outputs": []
    },
    {
      "cell_type": "code",
      "metadata": {
        "colab": {
          "base_uri": "https://localhost:8080/"
        },
        "id": "hqm_OL1vp888",
        "outputId": "358e7c09-5f78-4c05-cf1a-6b59aadd82aa"
      },
      "source": [
        "#Print the sorted scores\n",
        "print(sorted_scores)"
      ],
      "execution_count": null,
      "outputs": [
        {
          "output_type": "stream",
          "name": "stdout",
          "text": [
            "[(9, 0.9999999999999998), (60, 0.8767140075192089), (41, 0.6454972243679026), (88, 0.5009794328681195), (1, 0.46666666666666656), (66, 0.33333333333333326), (80, 0.33333333333333326), (58, 0.32274861218395134), (25, 0.3131121455425747), (29, 0.28644594961577313), (49, 0.2760262237369417), (28, 0.2666666666666666), (38, 0.2666666666666666), (59, 0.2666666666666666), (5, 0.2581988897471611), (17, 0.2581988897471611), (51, 0.2581988897471611), (84, 0.2581988897471611), (36, 0.2369395511036369), (37, 0.23094010767585027), (44, 0.23094010767585027), (71, 0.223606797749979), (13, 0.21483446221182984), (19, 0.21081851067789195), (34, 0.20701966780270625), (93, 0.20701966780270625), (4, 0.18257418583505536), (89, 0.18257418583505536), (40, 0.14907119849998599), (52, 0.14907119849998599), (53, 0.14907119849998599), (77, 0.14907119849998599), (24, 0.14322297480788657), (83, 0.14322297480788657), (6, 0.1333333333333333), (18, 0.1333333333333333), (30, 0.1333333333333333), (31, 0.1333333333333333), (23, 0.12909944487358055), (42, 0.12909944487358055), (10, 0.12524485821702988), (92, 0.12171612389003691), (11, 0.11846977555181845), (69, 0.11846977555181845), (3, 0.0778498944161523), (76, 0.0778498944161523), (43, 0.07453559924999299), (48, 0.07453559924999299), (56, 0.07453559924999299), (68, 0.07453559924999299), (97, 0.07453559924999299), (12, 0.07161148740394328), (50, 0.07161148740394328), (54, 0.07161148740394328), (55, 0.07161148740394328), (61, 0.07161148740394328), (62, 0.07161148740394328), (63, 0.07161148740394328), (79, 0.07161148740394328), (96, 0.07161148740394328), (74, 0.06900655593423542), (46, 0.06666666666666665), (0, 0.06262242910851494), (2, 0.06262242910851494), (14, 0.06262242910851494), (72, 0.06262242910851494), (87, 0.0563436169819011), (7, 0.0), (15, 0.0), (16, 0.0), (20, 0.0), (21, 0.0), (22, 0.0), (26, 0.0), (27, 0.0), (32, 0.0), (33, 0.0), (35, 0.0), (39, 0.0), (45, 0.0), (47, 0.0), (57, 0.0), (64, 0.0), (65, 0.0), (67, 0.0), (70, 0.0), (73, 0.0), (75, 0.0), (78, 0.0), (81, 0.0), (82, 0.0), (85, 0.0), (86, 0.0), (90, 0.0), (91, 0.0), (94, 0.0), (95, 0.0), (98, 0.0)]\n"
          ]
        }
      ]
    },
    {
      "cell_type": "code",
      "metadata": {
        "colab": {
          "base_uri": "https://localhost:8080/"
        },
        "id": "mNnFNHhQqHdz",
        "outputId": "bdf23a04-8f3b-4e82-d1d6-c6e5bf7468e4"
      },
      "source": [
        "#Create a loop to print the first 7 similar movies\n",
        "j=0\n",
        "print(\"The 7 most recommended movies to\", title,'are:\\n')\n",
        "for item in sorted_scores:\n",
        "  movie_title=df[df.Movie_ID==item[0]]['movie_title'].values[0]\n",
        "  print(j+1, movie_title)\n",
        "  j=j+1\n",
        "  if j>7:\n",
        "    break"
      ],
      "execution_count": null,
      "outputs": [
        {
          "output_type": "stream",
          "name": "stdout",
          "text": [
            "The 7 most recommended movies to The Avengers are:\n",
            "\n",
            "1 The Avengers\n",
            "2 Avengers: Age of Ultron\n",
            "3 Captain America: Civil War\n",
            "4 Captain America: The Winter Soldier\n",
            "5 Iron Man 3\n",
            "6 The Judge\n",
            "7 The Wolverine\n",
            "8 The Amazing Spider-Man 2\n"
          ]
        }
      ]
    },
    {
      "cell_type": "code",
      "metadata": {
        "id": "4GBuBxVFvEUt"
      },
      "source": [
        ""
      ],
      "execution_count": null,
      "outputs": []
    }
  ]
}
